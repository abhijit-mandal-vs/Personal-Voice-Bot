{
 "cells": [
  {
   "cell_type": "markdown",
   "metadata": {},
   "source": [
    "### Importing the required libs here"
   ]
  },
  {
   "cell_type": "code",
   "execution_count": 1,
   "metadata": {},
   "outputs": [],
   "source": [
    "import os\n",
    "from time import sleep\n",
    "from openai import OpenAI\n",
    "from dotenv import load_dotenv"
   ]
  },
  {
   "cell_type": "markdown",
   "metadata": {},
   "source": [
    "### Loading the env vars here"
   ]
  },
  {
   "cell_type": "code",
   "execution_count": 2,
   "metadata": {},
   "outputs": [
    {
     "data": {
      "text/plain": [
       "True"
      ]
     },
     "execution_count": 2,
     "metadata": {},
     "output_type": "execute_result"
    }
   ],
   "source": [
    "load_dotenv()"
   ]
  },
  {
   "cell_type": "markdown",
   "metadata": {},
   "source": [
    "### Initialize OpenAI client"
   ]
  },
  {
   "cell_type": "code",
   "execution_count": 3,
   "metadata": {},
   "outputs": [],
   "source": [
    "client = OpenAI(api_key = os.getenv(\"OPENAI_API_KEY\"))"
   ]
  },
  {
   "cell_type": "markdown",
   "metadata": {},
   "source": [
    "### Uploading Training Files"
   ]
  },
  {
   "cell_type": "code",
   "execution_count": null,
   "metadata": {},
   "outputs": [],
   "source": [
    "def upload_training_file(file_path):\n",
    "    \"\"\"Upload training file to OpenAI\"\"\"\n",
    "    with open(file_path, \"rb\") as file:\n",
    "        response = client.files.create(\n",
    "            file=file,\n",
    "            purpose=\"fine-tune\"\n",
    "        )\n",
    "        return response.id\n",
    "\n",
    "# Upload both training and validation files\n",
    "training_file_id = upload_training_file(\"training_data.jsonl\")\n",
    "validation_file_id = upload_training_file(\"validation_data.jsonl\")"
   ]
  },
  {
   "cell_type": "markdown",
   "metadata": {},
   "source": [
    "### Creating a Fine-Tuning Job"
   ]
  },
  {
   "cell_type": "code",
   "execution_count": null,
   "metadata": {},
   "outputs": [],
   "source": [
    "def create_fine_tuning_job(training_file_id, validation_file_id=None, model=\"gpt-4o-mini-2024-07-18\"):\n",
    "    \"\"\"Create a fine-tuning job\"\"\"\n",
    "    response = client.fine_tuning.jobs.create(\n",
    "        training_file=training_file_id,\n",
    "        validation_file=validation_file_id,\n",
    "        model=model\n",
    "    )\n",
    "    return response.id\n",
    "\n",
    "# Start the fine-tuning job\n",
    "job_id = create_fine_tuning_job(training_file_id, validation_file_id, model)"
   ]
  },
  {
   "cell_type": "markdown",
   "metadata": {},
   "source": [
    "### Monitoring Training Progress"
   ]
  },
  {
   "cell_type": "code",
   "execution_count": null,
   "metadata": {},
   "outputs": [],
   "source": [
    "def monitor_job(job_id):\n",
    "    \"\"\"Monitor fine-tuning job progress\"\"\"\n",
    "    while True:\n",
    "        job = client.fine_tuning.jobs.retrieve(job_id)\n",
    "        print(f\"Status: {job.status}\")\n",
    "\n",
    "        if job.status in [\"succeeded\", \"failed\"]:\n",
    "            return job\n",
    "\n",
    "        # List latest events\n",
    "        events = client.fine_tuning.jobs.list_events(\n",
    "            fine_tuning_job_id=job_id,\n",
    "            limit=5\n",
    "        )\n",
    "        for event in events.data:\n",
    "            print(f\"Event: {event.message}\")\n",
    "\n",
    "        sleep(30)  # Check every 30 seconds\n",
    "\n",
    "# Monitor the job until completion\n",
    "job = monitor_job(job_id)\n",
    "if job.status == \"succeeded\":\n",
    "    fine_tuned_model = job.fine_tuned_model\n",
    "    print(f\"Fine-tuned model ID: {fine_tuned_model}\")\n",
    "else:\n",
    "    print(\"Fine-tuning failed.\")"
   ]
  },
  {
   "cell_type": "markdown",
   "metadata": {},
   "source": [
    "### Testing and Using Your Fine-Tuned Model"
   ]
  },
  {
   "cell_type": "code",
   "execution_count": null,
   "metadata": {},
   "outputs": [],
   "source": [
    "def test_model(model_id, test_input):\n",
    "    \"\"\"Test the fine-tuned model\"\"\"\n",
    "    completion = client.chat.completions.create(\n",
    "        model=model_id,\n",
    "        messages=[\n",
    "            {\n",
    "                \"role\": \"system\",\n",
    "                \"content\": \"Extract Details from medical report\"\n",
    "            },\n",
    "            {\"role\": \"user\", \"content\": test_input}\n",
    "        ]\n",
    "    )\n",
    "    return completion.choices[0].message\n"
   ]
  },
  {
   "cell_type": "markdown",
   "metadata": {},
   "source": [
    "### Testing the Fine Tuned Model"
   ]
  },
  {
   "cell_type": "code",
   "execution_count": null,
   "metadata": {},
   "outputs": [],
   "source": [
    "# Test input\n",
    "text = \"\"\"Give me a breif introduction about yourself please.\"\"\"\n",
    "\n",
    "# Get prediction\n",
    "result = test_model(fine_tuned_model, text)\n",
    "\n",
    "# Parse the JSON response\n",
    "import json\n",
    "extracted_data = json.loads(result.content)\n",
    "print(json.dumps(extracted_data, indent=2))"
   ]
  }
 ],
 "metadata": {
  "kernelspec": {
   "display_name": "Python 3",
   "language": "python",
   "name": "python3"
  },
  "language_info": {
   "codemirror_mode": {
    "name": "ipython",
    "version": 3
   },
   "file_extension": ".py",
   "mimetype": "text/x-python",
   "name": "python",
   "nbconvert_exporter": "python",
   "pygments_lexer": "ipython3",
   "version": "3.10.12"
  }
 },
 "nbformat": 4,
 "nbformat_minor": 2
}
